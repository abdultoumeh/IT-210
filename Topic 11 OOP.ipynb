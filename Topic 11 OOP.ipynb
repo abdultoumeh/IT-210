{
 "cells": [
  {
   "cell_type": "markdown",
   "metadata": {},
   "source": [
    "# Homework 3 is uploaded. Due on coming Sunday (11-17) before midnight.\n",
    "# Homework 4 will be due the next Sunday (11-24)\n",
    "# Schedule for last few weeks:\n",
    "\n",
    "11 - 13 wednesday: practice problem 6\n",
    "\n",
    "11 - 18 monday: No class\n",
    "\n",
    "11 - 20 wednesday: project presentation (20-25 mins presentation, 5 mins QA) The dropbox closes on tuesday. Upload your presentation, code, diagrams (if any).\n",
    "\n",
    "11 - 25 monday: project presentation (20-25 mins presentation, 5 mins QA)\n",
    "\n",
    "12 - 2 monday: Question Answer (Meeting during class time in my office with questions regarding topics 1 - 11)\n",
    "\n",
    "12 - 4 wednesday: final Exam"
   ]
  },
  {
   "cell_type": "markdown",
   "metadata": {},
   "source": [
    "## Agenda\n",
    "\n",
    "1. Procedural and Object-Oriented Programming\n",
    "2. Classes and Encapsulation\n",
    "3. Working with Instances\n",
    "4. Inheritance\n",
    "5. Polymorphism"
   ]
  },
  {
   "cell_type": "markdown",
   "metadata": {},
   "source": [
    "So far we looked into the Procedural/ functional programming aspect of python where we were writing programs made of functions that perform specific tasks. These procedures/functions typically operate on data items that are separate from the procedures. For example, we passed data items as argument to these proceduces and returned some data item from the functions. This return item can be then passed to another function to operate on. So, here the focus was on creating procedures/functions that operate on the program’s data.\n",
    "\n",
    "Example:\n",
    "\n",
    "def myfunction(data1, data2):\n",
    "\n",
    "    return data1+data2\n",
    "\n",
    "def main():\n",
    "\n",
    "    i = int(input(\"Enter num 1\"))\n",
    "    \n",
    "    j = int(input(\"Enter num 2\"))\n",
    "    \n",
    "    r = myfunction(i, j) # passing the numbers as argument to myfunction and storing the result in r\n",
    "    \n",
    "    print(r) # print() takes the return value from myfunction()\n",
    "\n",
    "main()"
   ]
  },
  {
   "cell_type": "markdown",
   "metadata": {},
   "source": [
    "## The basics of OOP\n",
    "In object oriented programming, we try to solve the problem using objects. So, what is an object?\n",
    "\n",
    "Object: Objects are a representation of the real world objects like cars, bicycles, bikes, etc. \n",
    "The objects share two main characteristics: \n",
    "\n",
    "1. Data and (in OOP we call this ATTRIBUTE) \n",
    "2. Behavior. (in OOP we call this METHOD)\n",
    "\n",
    "For example, We want to write a program to store the information about the employees in a software company. Here each of the employees is an object. All the employees have a first name, last name, email address, pay. These are some attributes of the employees. \n",
    "\n",
    "In OOP, we define object methods to execute on the object's attribute(s) to perform certain task for the object. For example, one of the methods can be calculate_salary() that takes in a increase_amount as parameter and returns the salary for a particular employee.\n",
    "\n",
    "This idea of combining the data attributes and the methods operating on these attributes to an object is called encapsulation.\n",
    "\n",
    "Another important terminology is 'CLASS'. For the previous example, any employee of the company is an employee or they belong to the employee class.\n",
    "\n",
    "Hence, a class is a blueprint of objects that share the common attributes (but with different values). Using this definition of class we can also say that an object is an instance (with some particular values) of a class.\n",
    "\n",
    "Let's try to analyze these definitions with some example. Employee is a class that contains/generalizes the characteristics of any employee in a company. The general attribute of an employee can be first_name, last_name, email, pay etc. However, Sam and Jake are two employees. For Sam and Jake the attribute values are given below:\n",
    "\n",
    "Jake:\n",
    "1. first_name = James\n",
    "2. last_name = Anderson\n",
    "3. email = james.anderson@company.com\n",
    "4. pay = 50000\n",
    "\n",
    "Sam:\n",
    "1. first_name = Samuel\n",
    "2. last_name = Gruber\n",
    "3. email = samuel.gruber@company.com\n",
    "4. pay = 60000\n"
   ]
  },
  {
   "cell_type": "markdown",
   "metadata": {},
   "source": [
    "## Defining a class\n",
    "In order to work with objects, we first need to define a class (what attributes are there in the class what methods are there etc.).\n",
    "Now let's see how we define a class in python  \n",
    "\n",
    "Syntax: \n",
    "\n",
    "class \"class_name\":\n",
    "    \n",
    "    # body of the class definition\n",
    "    \n",
    "as an object is an instance of a class, the way we create an object of a class is using the following syntax.\n",
    "\n",
    "Syntax: \"object_var\" = \"class_name\"(parameters to create the object)\n",
    "\n",
    "Let's see a more concrete example"
   ]
  },
  {
   "cell_type": "code",
   "execution_count": 11,
   "metadata": {},
   "outputs": [
    {
     "name": "stdout",
     "output_type": "stream",
     "text": [
      "<__main__.employee object at 0x000002A73408DD30>\n",
      "<__main__.employee object at 0x000002A73408DDA0>\n"
     ]
    }
   ],
   "source": [
    "class employee:\n",
    "    def __init__(self, fname, lname, pay):\n",
    "        self.first_name = fname\n",
    "        self.last_name = lname\n",
    "        self.pay = pay\n",
    "        self.email = fname+\".\"+lname+\"@company.com\"\n",
    "# creating objects of a class        \n",
    "emp1 = employee(\"samuel\",\"gruber\",50000)\n",
    "emp2 = employee(\"james\",\"anderson\",60000)\n",
    "print(emp1)\n",
    "print(emp2)"
   ]
  },
  {
   "cell_type": "markdown",
   "metadata": {},
   "source": [
    "In the above example there are a few things that is important when we defining a class. \n",
    "\n",
    "## The __init__() method:\n",
    "The __init__ is called a constructor or initialization method. When we create an object using object_variable = class_name(), the python interpreter calls the __init__ method in the class to create an specific object (or an entity with some values that can be different from others)\n",
    "\n",
    "This is a special method.\n",
    "\n",
    "In the example, the __init__ method takes 4 parameters. Among them the first one is \"self\". This self parameter refers to the object itself. This is automatically passed to the __init__ function when you try to create an object. The other parameters, you need to have a value to be passed when you create the object."
   ]
  },
  {
   "cell_type": "markdown",
   "metadata": {},
   "source": [
    "## Accessing the attributes and method of an object\n",
    "To access the attributes or methods of an object, we use \"object variable\" \".\" (dot) attribute name or method name. Example,"
   ]
  },
  {
   "cell_type": "code",
   "execution_count": 13,
   "metadata": {},
   "outputs": [
    {
     "name": "stdout",
     "output_type": "stream",
     "text": [
      "samuel\n",
      "jackson\n",
      "--> samuel.gruber@company.com\n",
      "jackson gruber\n",
      "james anderson\n"
     ]
    }
   ],
   "source": [
    "class employee:\n",
    "    def __init__(self, fname, lname, pay):\n",
    "        self.first_name = fname\n",
    "        self.last_name = lname\n",
    "        self.pay = pay\n",
    "        self.email = fname+\".\"+lname+\"@company.com\"\n",
    "    def get_name(self):\n",
    "        return self.first_name+ \" \" + self.last_name\n",
    "    def get_pay(self):\n",
    "        return self.pay\n",
    "    def set_pay(self, newpay):\n",
    "        self.pay = newpay\n",
    "\n",
    "# Creating an object\n",
    "emp1 = employee(\"samuel\",\"gruber\",50000)\n",
    "emp2 = employee(\"james\",\"anderson\",60000)\n",
    "\n",
    "# Accessing the objects attribute\n",
    "print(emp1.first_name)\n",
    "emp1.first_name = \"jackson\"\n",
    "print(emp1.first_name)\n",
    "# print(\"-->\", emp1.email, sep =\" \")\n",
    "\n",
    "# Accessing the objects method\n",
    "print(emp1.get_name())\n",
    "print(emp2.get_name())"
   ]
  },
  {
   "cell_type": "markdown",
   "metadata": {},
   "source": [
    "## Data Hiding: \n",
    "While desiging program, we want to hide the attributes from outside. i.e. only methods inside a class definition will have access to the attributes (we also call this making the attributes private to the object). So we want to hide the complexity of the data and the methods of a class from the outside world. This is called adstraction.\n",
    "\n",
    "For example, we want to hide the data attributes of a class from the outside world. Then to access i.e. read the value of an attribute or update the value of an attribute we use methods. The methods that is used to read the values are called \"accessors\", and the method that are used to update the values are called \"mutators\". \n",
    "\n",
    "In order to make an attribute public to object we use \"__\" before the attribute name."
   ]
  },
  {
   "cell_type": "code",
   "execution_count": 18,
   "metadata": {},
   "outputs": [
    {
     "name": "stdout",
     "output_type": "stream",
     "text": [
      "samuel gruber\n",
      "jordan rudes\n",
      "jordan.rudes@company.com\n"
     ]
    }
   ],
   "source": [
    "class employee:\n",
    "    def __init__(self, fname, lname, pay):\n",
    "        self.__first_name = fname\n",
    "        self.__last_name = lname\n",
    "        self.__pay = pay\n",
    "        self.__email = fname+\".\"+lname+\"@company.com\"\n",
    "        \n",
    "    # Accessor methods also called getter. Alternate way of defining getter is also available in python.\n",
    "    def get_name(self):\n",
    "        return self.__first_name+ \" \" + self.__last_name\n",
    "    \n",
    "    def get_pay(self):\n",
    "        return self.__pay\n",
    "    \n",
    "    def get_email(self):\n",
    "        return self.__email\n",
    "    \n",
    "    # Mutator methods also called setters. Alternate way of defining getter is also available in python.\n",
    "    def set_pay(self, newpay):\n",
    "        self.__pay = newpay\n",
    "    \n",
    "    def set_email(self,newemail):\n",
    "        self.__email = newemail\n",
    "    \n",
    "    def set_name(self, fname=\"\", lname=\"\"):\n",
    "        if fname == \"\" and lname == \"\":\n",
    "            return\n",
    "        else:\n",
    "            if fname == \"\" and lname != \"\":\n",
    "                self.__last_name = lname\n",
    "            elif fname != \"\" and lname == \"\":\n",
    "                self.__last_name = lname\n",
    "            else:\n",
    "                self.__last_name = lname\n",
    "                self.__first_name = fname\n",
    "            self.__email = self.__first_name+\".\"+self.__last_name+\"@company.com\"\n",
    "\n",
    "# Creating an object\n",
    "emp1 = employee(\"samuel\",\"gruber\",50000)\n",
    "emp2 = employee(\"james\",\"anderson\",60000)\n",
    "\n",
    "# Accessing the objects method\n",
    "print(emp1.get_name())\n",
    "\n",
    "# Now if trying to access the objects attributes, will throw an error as the attributes are private and cannot be accessed outisde the class definition \n",
    "# Following lines will not work. Uncomment the following lines and check for yourself.\n",
    "# print(emp1.__first_name)\n",
    "# emp1.__first_name = \"jackson\"\n",
    "# print(emp1.__first_name)\n",
    "\n",
    "# print(emp1.get_name())\n",
    "emp1.set_name(\"jordan\",\"rudes\")\n",
    "print(emp1.get_name())\n",
    "print(emp1.get_email())"
   ]
  },
  {
   "cell_type": "markdown",
   "metadata": {},
   "source": [
    "## Dunder methods\n",
    "\n",
    "__str__:\n",
    "Recall that when we called print(emp1) it printed <__main__.employee object at 0x000001CA38370128> which is not very informative. So, in order to provide some good information about an object state (i.e. values of different attributes) we need to define the __str__ method in a class. \n",
    "\n",
    "This is called automatically whenever we call str(object_name) or print(object_name).\n",
    "\n",
    "This method returns a string with the values of the attributes so that it is easy for the user of the class to see the contents of a object easily."
   ]
  },
  {
   "cell_type": "code",
   "execution_count": 25,
   "metadata": {},
   "outputs": [
    {
     "name": "stdout",
     "output_type": "stream",
     "text": [
      "First name = samuel, Last name = gruber, Pay = 50000, email = samuel.gruber@company.com\n"
     ]
    }
   ],
   "source": [
    "class employee:\n",
    "    def __init__(self, fname, lname, pay):\n",
    "        self.__first_name = fname\n",
    "        self.__last_name = lname\n",
    "        self.__pay = pay\n",
    "        self.__email = fname+\".\"+lname+\"@company.com\"\n",
    "        \n",
    "    # Accessor methods also called getter. Alternate way of defining getter is also available in python.\n",
    "    def get_name(self):\n",
    "        return self.__first_name+ \" \" + self.__last_name\n",
    "    \n",
    "    def get_pay(self):\n",
    "        return self.pay\n",
    "    \n",
    "    def get_email(self):\n",
    "        return self.__email\n",
    "    \n",
    "    # Mutator methods also called setters. Alternate way of defining getter is also available in python.\n",
    "    def set_pay(self, newpay):\n",
    "        self.__pay = newpay\n",
    "    \n",
    "    def set_email(self,newemail):\n",
    "        self.__email = newemail\n",
    "    \n",
    "    def set_name(self, fname=None, lname=None):\n",
    "        if fname == None and lname == None:\n",
    "            return\n",
    "        else:\n",
    "            if fname == None and lname != None:\n",
    "                self.__last_name = lname\n",
    "            elif fname != None and lname == None:\n",
    "                self.__last_name = lname\n",
    "            else:\n",
    "                self.__last_name = lname\n",
    "                self.__first_name = fname\n",
    "            self.__email = self.__first_name+\".\"+self.__last_name+\"@company.com\"\n",
    "    \n",
    "    def print_random_stuff(self):\n",
    "        print(\"I am in employee\")\n",
    "   \n",
    "    def __str__(self):\n",
    "        return \"First name = {0}, Last name = {1}, Pay = {2}, email = {3}\".format(self.__first_name, \n",
    "                                                                              self.__last_name, \n",
    "                                                                              self.__pay, \n",
    "                                                                              self.__email)\n",
    "# Creating an object\n",
    "emp1 = employee(\"samuel\",\"gruber\",50000)\n",
    "emp2 = employee(\"james\",\"anderson\",60000)\n",
    "\n",
    "print(emp1)"
   ]
  },
  {
   "cell_type": "markdown",
   "metadata": {},
   "source": [
    "## Inheritance\n",
    "\n",
    "Inheritance means that a class inherits attributes and methods from other class. For example, say we categorize the employees in two groups, one is a developer and one is a manager. Now apart from being an employee, people in these two classes will have some extra attributes which are different from each other. For example, a manager manages a group of developer, where as each developer can have skills in different programming languages. \n",
    "\n",
    "So these two classes manager and developer, being employees, will have the attributes and methods of employees plus  some distinct attribute that differenciates them. In OOP, we say that the class manager and developer inherits from employee class.\n",
    "\n",
    "The class from which we inherit the attributes and methods is called super class. (Some languages call it base class or parent class)\n",
    "The class that inherits the attributes and methods is class sub class. (Some languages call it derived class or child class)\n",
    "\n",
    "Lets see an example and try to create the manager classes."
   ]
  },
  {
   "cell_type": "code",
   "execution_count": 26,
   "metadata": {},
   "outputs": [
    {
     "name": "stdout",
     "output_type": "stream",
     "text": [
      "I am in employee\n",
      "Scott Hawker\n",
      "Eric Turner\n",
      "Aaron Nivala\n"
     ]
    }
   ],
   "source": [
    "class manager(employee): #in the parenthesis we say from which class this class inherits the attributes from\n",
    "    def __init__(self, fname, lname, pay, manages):\n",
    "        # Here we can write the same code as we wrote in employee class to initialize the attributes derived from employees\n",
    "        super().__init__(fname, lname, pay)\n",
    "        self.__manages = manages\n",
    "    \n",
    "    def get_manages(self):\n",
    "        return self.__manages\n",
    "    \n",
    "    def add_employee_to_manages(self, developer):\n",
    "        self.__manages.append(developer) \n",
    "\n",
    "class developer(employee): #in the parenthesis we say from which class this class inherits the attributes from\n",
    "    def __init__(self, fname, lname, pay, prog_lang):\n",
    "        # Here we can write the same code as we wrote in employee class to initialize the attributes derived from employees\n",
    "        super().__init__(fname, lname, pay)\n",
    "        self.__skill = prog_lang\n",
    "    \n",
    "    def get_skill(self):\n",
    "        return self.__skill\n",
    "    \n",
    "    def set_skill(self, prog_lang):\n",
    "        self.__skill = prog_lang\n",
    "        \n",
    "manager1 =  manager(\"Scott\",\"Hawker\",100000, [])\n",
    "developer1 = developer(\"Eric\", \"Turner\", 85000, \"Python\")\n",
    "developer2 = developer(\"Aaron\", \"Nivala\", 80000, \"Java\")\n",
    "\n",
    "manager1.add_employee_to_manages(developer1)\n",
    "manager1.add_employee_to_manages(developer2)\n",
    "\n",
    "manager1.print_random_stuff()\n",
    "\n",
    "print(manager1.get_name())\n",
    "devs = manager1.get_manages()\n",
    "for dev in devs:\n",
    "    print(dev.get_name())"
   ]
  },
  {
   "cell_type": "markdown",
   "metadata": {},
   "source": [
    "An important thing to notice here is that when we have the same function defined in both the classes i.e. the parent class and child class, then python interpreter first tries to find the method in the child class and then in the parent class definition. If the method matches the one in the child class then the base class method is overriden.\n",
    "\n",
    "In python there is a function called issubclass() that can be used to check if a class is child/sub class of another class.\n",
    "\n",
    "issubclass(\"name of subclass\",\"name of superclass\")\n",
    "\n",
    "Similarly, isinstance() determines whether object is an instance of a class\n",
    "\n",
    "isinstance(object, class)"
   ]
  },
  {
   "cell_type": "code",
   "execution_count": 52,
   "metadata": {},
   "outputs": [
    {
     "name": "stdout",
     "output_type": "stream",
     "text": [
      "True\n",
      "True\n",
      "True\n"
     ]
    }
   ],
   "source": [
    "# issubclass()\n",
    "print(issubclass(developer,employee))\n",
    "\n",
    "# isinstance()\n",
    "print(isinstance(manager1, manager))\n",
    "print(isinstance(manager1, employee))"
   ]
  },
  {
   "cell_type": "markdown",
   "metadata": {},
   "source": [
    "## Polymorphism\n",
    "In plain english polymorphism mean an object’s ability to take different forms.\n",
    "\n",
    "In python, we see that we can define a method in a superclass and override it in a subclass. Now which version of the method will be called depends on the type of object that called for it.\n",
    "\n",
    "Examples: In previous section we see how to override the __init__ method. We can do this for any other method (See following example)"
   ]
  },
  {
   "cell_type": "code",
   "execution_count": 27,
   "metadata": {},
   "outputs": [
    {
     "name": "stdout",
     "output_type": "stream",
     "text": [
      "Initializing: class B\n",
      "Initializing: class A\n",
      "Printing from class B: 1\n",
      "-------------------------\n",
      "Initializing: class C\n",
      "Initializing: class B\n",
      "Initializing: class A\n",
      "Printing from class C: 2\n"
     ]
    }
   ],
   "source": [
    "class A:\n",
    "    def __init__(self):\n",
    "        print('Initializing: class A')\n",
    "\n",
    "    def sub_method(self, b):\n",
    "        print('Printing from class A:', b)\n",
    "\n",
    "class B(A):\n",
    "    def __init__(self):\n",
    "        print('Initializing: class B')\n",
    "        super().__init__()\n",
    "\n",
    "    def sub_method(self, b):\n",
    "        print('Printing from class B:', b)\n",
    "\n",
    "class C(B):\n",
    "    def __init__(self):\n",
    "        print('Initializing: class C')\n",
    "        super().__init__()\n",
    "\n",
    "    def sub_method(self, b):\n",
    "        print('Printing from class C:', b)\n",
    "\n",
    "if __name__ == '__main__':\n",
    "    b = B()\n",
    "    b.sub_method(1)\n",
    "    print(\"-------------------------\")\n",
    "    c = C()\n",
    "    c.sub_method(2)\n",
    "    \n"
   ]
  },
  {
   "cell_type": "markdown",
   "metadata": {},
   "source": [
    "## Try youself:\n",
    "\n",
    "1. Create a class named vehicle\n",
    "2. The vehicle has the following attributes:\n",
    "    a. number of wheels\n",
    "    b. color\n",
    "    c. price\n",
    "\n",
    "3. The vehicle also have the following method:\n",
    "    a. get number of wheels\n",
    "    b. set number of wheels\n",
    "    c. get color\n",
    "    d. set color\n",
    "    e. get price\n",
    "    f. set price\n",
    "    \n",
    "4. Create a car class that inherits all the attributes and methods from vehicle class\n",
    "5. The car class has it's own attribute\n",
    "    a. make\n",
    "    b. year\n",
    "    c. type\n",
    "    d. model\n",
    "   The car class also have the associated accessor and mutator methods for these attributes\n",
    "\n",
    "Note: All attributes should be private to the class for both vehicle and car.\n",
    "\n",
    "6. create a car object called ford mustang with the following values.\n",
    "\n",
    "make = Ford\n",
    "\n",
    "year = 2019\n",
    "\n",
    "type = sedan\n",
    "\n",
    "model = mustang\n",
    "\n",
    "number of wheels = 4\n",
    "\n",
    "color = white\n",
    "\n",
    "price = 27000\n",
    "\n",
    "create another car object called chevy camero with following values.\n",
    "\n",
    "make = chevy\n",
    "\n",
    "year = 2020\n",
    "\n",
    "type = sedan\n",
    "\n",
    "model = camero\n",
    "\n",
    "number of wheels = 4\n",
    "\n",
    "color = blue\n",
    "\n",
    "price = 26000"
   ]
  },
  {
   "cell_type": "markdown",
   "metadata": {},
   "source": [
    "## Problem solving using classes\n",
    "\n",
    "Write a Python class named Rectangle constructed by a length and width and a method which will compute the area of a rectangle."
   ]
  },
  {
   "cell_type": "code",
   "execution_count": 8,
   "metadata": {},
   "outputs": [
    {
     "name": "stdout",
     "output_type": "stream",
     "text": [
      "120\n"
     ]
    }
   ],
   "source": [
    "class Rectangle:\n",
    "    def __init__(self, l, w):\n",
    "        self.length = l\n",
    "        self.width  = w\n",
    "\n",
    "    def rectangle_area(self):\n",
    "        return self.length*self.width\n",
    "    \n",
    "    def rectangle_circumference(self):\n",
    "        return 2*(self.length + self.width)\n",
    "\n",
    "newRectangle = Rectangle(12, 10)\n",
    "print(newRectangle.rectangle_area())"
   ]
  },
  {
   "cell_type": "code",
   "execution_count": null,
   "metadata": {},
   "outputs": [],
   "source": []
  }
 ],
 "metadata": {
  "kernelspec": {
   "display_name": "Python 3",
   "language": "python",
   "name": "python3"
  },
  "language_info": {
   "codemirror_mode": {
    "name": "ipython",
    "version": 3
   },
   "file_extension": ".py",
   "mimetype": "text/x-python",
   "name": "python",
   "nbconvert_exporter": "python",
   "pygments_lexer": "ipython3",
   "version": "3.7.3"
  }
 },
 "nbformat": 4,
 "nbformat_minor": 2
}
