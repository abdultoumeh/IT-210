{
 "cells": [
  {
   "cell_type": "markdown",
   "metadata": {},
   "source": [
    "## Working with File I/O"
   ]
  },
  {
   "cell_type": "markdown",
   "metadata": {},
   "source": [
    "Why saving or reading from files?\n",
    "-----------------------------------------------\n",
    "\n",
    "So far the way we have designed the program: \n",
    "\n",
    "we asked the user for input()->perform some operation on the data ->output the data on the screen (i.e. print())\n",
    "\n",
    "In may cases, we need to read the data from a file or save the data back into a file. \n",
    "\n",
    "Example 1: Think about your microsoft word program, You can open the microsoft word application/program, from there you\n",
    "can open a doc or docx file, the editor shows you the contents stored in that file. \n",
    "\n",
    "Example 2: Think about your XBOX or PS4. Every time you start your PS4 or XBOX you see the users for the system.\n",
    "\n",
    "Example 3: Think about a photoeditor, you can open a picture (open and read), edit it (perform computation), and\n",
    "save it (write).\n",
    "\n",
    "For most of the applications that we use daily, reads things from Files and writes it back to a file.\n",
    "\n",
    "Advantage:\n",
    "---------------------------------------------\n",
    "The advantage is that the data is not lost when we close the program."
   ]
  },
  {
   "cell_type": "markdown",
   "metadata": {},
   "source": [
    "Some Terminilogies:\n",
    "-----------------------------\n",
    "Writing data to: saving data on a file\n",
    "\n",
    "Output file: a file that data is written to\n",
    "\n",
    "Reading data from: process of retrieving data from a file\n",
    "\n",
    "Input file: a file from which data is read\n",
    "\n",
    "Steps of using a File:\n",
    "-----------------------------\n",
    "1. Open the file: open()\n",
    "\n",
    "2. Process the file: read()/write()\n",
    "\n",
    "3. Close the file: close()\n",
    "\n",
    "Different Types of Files:\n",
    "-----------------------------\n",
    "Text File: contains data that has been encoded as text, example files with .txt extension\n",
    "\n",
    "Binary File: contains data that has not been converted to text, example files with jpg, exe extension \n",
    "\n",
    "We will mostly discuss about working with text files"
   ]
  },
  {
   "cell_type": "code",
   "execution_count": 30,
   "metadata": {},
   "outputs": [],
   "source": [
    "# You will not have these images in your machine hence, running this will throw you an error\n",
    "from PIL import Image\n",
    "image1 = Image.open('text_file.jpg')\n",
    "image1.show()\n",
    "image2 = Image.open('bin_file.jpg')\n",
    "image2.show()"
   ]
  },
  {
   "cell_type": "markdown",
   "metadata": {},
   "source": [
    "Opening a file:\n",
    "-----------------------\n",
    "The first step to work with a file is to open a file\n",
    "python provides a function 'open' that is used to open a file\n",
    "\n",
    "General format: \n",
    "file_object = open(filename, mode)\n",
    "\n",
    "Mode: string specifying how the file will be opened\n",
    "\n",
    "Example: \n",
    "\n",
    "r: Open the file for reading. No overwrite. No write. No create. \n",
    "\n",
    "w: Open file for writing, overwrites exisiting file. If no \n",
    "file then creates new.\n",
    "\n",
    "a: Append/writes to the end of file. If no file then creates a new file.\n"
   ]
  },
  {
   "cell_type": "code",
   "execution_count": 36,
   "metadata": {},
   "outputs": [],
   "source": [
    "# Trying to open a file that is not there in the directory\n",
    "# f = open('my_demo.txt','r')\n",
    "\n",
    "# Now try to open a file to write to it\n",
    "# f = open('my_demo.txt','w')\n",
    "# f.write(\"My name is X\\n\")\n",
    "# f.close()\n",
    "# Now try to open a file to append to it\n",
    "# f = open('my_demo.txt','a')\n",
    "# f.write(\"My name is X1\\n\")\n",
    "# f.close()"
   ]
  },
  {
   "cell_type": "code",
   "execution_count": 18,
   "metadata": {},
   "outputs": [],
   "source": [
    "# Some extra code to remove the file\n",
    "import os\n",
    "f.close()\n",
    "os.remove('my_demo.txt')"
   ]
  },
  {
   "cell_type": "markdown",
   "metadata": {},
   "source": [
    "The filename in open can contain the whole path of the file+ the file name\n",
    "\n",
    "Example: C:\\Windows\\abcd\\my_demo.txt\n",
    "\n",
    "If the path is not specified then python looks for the file in the same \n",
    "directory as the python script\n",
    "\n",
    "A few note to use the path:\n",
    "--\n",
    "1. For windows while specifing the path use escape character in the path\n",
    "Example 'C:\\\\Users\\\\abcd\\\\Python_Class_Demo\\\\CIS 121\\\\'\n",
    "\n",
    "if you donot want to use the escape characters use a \"r\" before the path \n",
    "string, which stands for raw string\n",
    "\n",
    "Example: \n",
    "\n",
    "f = open(r'C:\\Users\\abcd\\Python_Class_Demo\\CIS 121\\my_demo.txt','r')\n",
    "\n",
    "2. Based on the OS the path syntax can be different\n",
    "\n",
    "Example:\n",
    "\n",
    "Windows: 'C:\\Users\\abcd\\Python_Class_Demo\\CIS 121\\'\n",
    "\n",
    "MACOS or linux: 'something/Python_Class_Demo/CIS 121/'\n",
    "\n",
    "Here '\\' or '/' is called the path seperator\n",
    "\n",
    "To make sure that your code is portable across different machines\n",
    "use the os.path.join() function to generate the correct path based on the \n",
    "OS.\n",
    "\n",
    "Say the path is Users\\abcd\\my_demo.txt"
   ]
  },
  {
   "cell_type": "code",
   "execution_count": 37,
   "metadata": {},
   "outputs": [
    {
     "name": "stdout",
     "output_type": "stream",
     "text": [
      "Users\\abcd\\my_demo.txt\n"
     ]
    }
   ],
   "source": [
    "pathstring = os.path.join('Users','abcd','my_demo.txt')\n",
    "print(pathstring)"
   ]
  },
  {
   "cell_type": "markdown",
   "metadata": {},
   "source": [
    "Reading Data from a file\n",
    "--\n",
    "Once we have opened a file the \"f\" is a file object that we can use to do \n",
    "various things with the file. One of the things we want to do is to read the file.\n",
    "\n",
    "The read() method of the file class provides us a way to read the contents of the file as a single string.\n",
    "\n",
    "The readlines() method of the file class reads every line of a file and appends each line to a list. Finally when all the lines are read returns the list of lines.\n",
    "\n",
    "The readline() method of the file class read one line in the file at a time. Line means a sequnce of charaters before a \\n (enter) sign"
   ]
  },
  {
   "cell_type": "code",
   "execution_count": 41,
   "metadata": {},
   "outputs": [
    {
     "name": "stdout",
     "output_type": "stream",
     "text": [
      "My name is X\n",
      "\n"
     ]
    }
   ],
   "source": [
    "# f = open('my_demo.txt','r')\n",
    "# filecontent1 = f.read()\n",
    "# print(filecontent1)\n",
    "\n",
    "# # Once the file is read we need to go back reading things from the begining\n",
    "# f.seek(0)\n",
    "# filecontent2 = f.readlines()\n",
    "# print(filecontent2)\n",
    "\n",
    "# f.seek(0)\n",
    "# filecontent3 = f.readline()\n",
    "# print(filecontent3)\n",
    "# f.close()"
   ]
  },
  {
   "cell_type": "markdown",
   "metadata": {},
   "source": [
    "Reading line by line\n",
    "--\n",
    "1. using readline()\n",
    "\n",
    "2. using the file object itself"
   ]
  },
  {
   "cell_type": "code",
   "execution_count": 71,
   "metadata": {},
   "outputs": [
    {
     "data": {
      "text/plain": [
       "'This is line 1\\nThis is line 2\\nThis is line 3\\nThis is line 4\\nThis is line 5'"
      ]
     },
     "execution_count": 71,
     "metadata": {},
     "output_type": "execute_result"
    }
   ],
   "source": [
    "\"\"\"This is line 1\n",
    "This is line 2\n",
    "This is line 3\n",
    "This is line 4\n",
    "This is line 5\"\"\""
   ]
  },
  {
   "cell_type": "code",
   "execution_count": 43,
   "metadata": {},
   "outputs": [
    {
     "name": "stdout",
     "output_type": "stream",
     "text": [
      "My name is X\n",
      "\n",
      "My name is X1\n",
      "\n"
     ]
    }
   ],
   "source": [
    "# Reading file using readline\n",
    "f = open('my_demo.txt','r')\n",
    "\n",
    "line = f.readline()\n",
    "while line != \"\":\n",
    "    print(line)\n",
    "    line = f.readline()\n",
    "f.close()\n",
    "# Notice the extra space between lines. This is due to the newline in the\n",
    "# file and newline for the print. You can remove this by adjusting print\n",
    "# f = open('my_demo.txt','r')\n",
    "# # Reading file using readline\n",
    "# line = f.readline()\n",
    "# while line != \"\":\n",
    "#     # line is a string. So we can use rstrip of the string class to remove\n",
    "#     # the newline at the end\n",
    "#     print(line.rstrip(\"\\n\"))\n",
    "#     line = f.readline()\n",
    "# f.close()"
   ]
  },
  {
   "cell_type": "code",
   "execution_count": 44,
   "metadata": {},
   "outputs": [
    {
     "name": "stdout",
     "output_type": "stream",
     "text": [
      "My name is X\n",
      "My name is X1\n"
     ]
    }
   ],
   "source": [
    "# Reading file using the file object\n",
    "f = open('my_demo.txt','r')\n",
    "\n",
    "for line in f:\n",
    "    print(line.rstrip(\"\\n\"))\n",
    "f.close()"
   ]
  },
  {
   "cell_type": "markdown",
   "metadata": {},
   "source": [
    "Example\n",
    "--\n",
    "\n",
    "We want to read a text file then create a list where each element in the list is a dictionary. The dictionary contains specification about different charaters with the field as key and value of the field as value"
   ]
  },
  {
   "cell_type": "code",
   "execution_count": 4,
   "metadata": {},
   "outputs": [
    {
     "name": "stdout",
     "output_type": "stream",
     "text": [
      "[{'Name': ' Naruto Uzumaki', 'Age ': ' 17', 'Style': ' Wind'}, {'Name': ' Sasuke Uchiha', 'Age ': ' 19', 'Style': ' Lightning'}, {'Name': ' Sakura Haruno', 'Age': ' 16', 'Style': ' Medical Ninja'}]\n"
     ]
    }
   ],
   "source": [
    "path = \"<your path>\"\n",
    "f = open(path+\"Team7.txt\", 'r')\n",
    "# Create an empty list\n",
    "l = []\n",
    "d={}\n",
    "for line in f:\n",
    "#     Based on the file there is an 'enter' between char specification\n",
    "    if line ==\"\\n\":\n",
    "#         add the existing dictionary to the list\n",
    "        l.append(d)\n",
    "        d = {}\n",
    "    else:\n",
    "        (key, value) = line.split(\":\")\n",
    "        d[key] = value.rstrip(\"\\n\")\n",
    "# The last entry will not be added to the list as no enter after the last\n",
    "# Add it seperately\n",
    "l.append(d)\n",
    "\n",
    "print(l)\n",
    "f.close()"
   ]
  },
  {
   "cell_type": "markdown",
   "metadata": {},
   "source": [
    "Writing to a file\n",
    "--\n",
    "In order to write to a file we need to make sure we open the file in write mode\n",
    "\n",
    "Use the write() method to write a string to a file. Data is written when a \"\\n\" is written to the file\n",
    "\n",
    "Note: Sometimes data is not instantly written in the file. Data is first buffered and then written to the disk. We can enforce this write by using \n",
    "1. flush() method\n",
    "2. os.fsync()\n",
    "\n",
    "Also by closing the file using close() method writes the buffer to the file \n",
    "\n"
   ]
  },
  {
   "cell_type": "code",
   "execution_count": 6,
   "metadata": {},
   "outputs": [
    {
     "name": "stdout",
     "output_type": "stream",
     "text": [
      "This is line 1\n",
      "This is line 2\n",
      "This is line 3\n",
      "This is line 4\n",
      "This is line 5\n"
     ]
    }
   ],
   "source": [
    "# Example of writing to a file\n",
    "f = open('my_demo.txt','w+')\n",
    "\n",
    "# Note the '+' after w allows to read also\n",
    "for i in range(5):\n",
    "    f.write(\"This is line \"+str(i+1)+\"\\n\")\n",
    "\n",
    "# Bring back cursor back to the beginning\n",
    "f.seek(0)\n",
    "\n",
    "# Reading the content written\n",
    "for line in f:\n",
    "    print(line.rstrip(\"\\n\"))\n",
    "f.close()\n",
    "\n",
    "# Similarly we can use writelines function to write multiple lines at the same time\n",
    "# syntax: <file object>.writelines(<str>)"
   ]
  },
  {
   "cell_type": "markdown",
   "metadata": {},
   "source": [
    "Example\n",
    "--\n",
    "We want to create a telephone directory. In the directory we ask the user for name and phone number. Then save it in a file called directory.txt"
   ]
  },
  {
   "cell_type": "code",
   "execution_count": 20,
   "metadata": {},
   "outputs": [
    {
     "name": "stdout",
     "output_type": "stream",
     "text": [
      "Enter name then a space followed by number. Press enter when done\n",
      "Aaron 5614\n",
      "Jackson 0007\n",
      "\n"
     ]
    }
   ],
   "source": [
    "f = open(\"directory.txt\", \"w\")\n",
    "\n",
    "print(\"Enter name then a space followed by number. Press enter when done\")\n",
    "a = input()\n",
    "while a != '':\n",
    "    f.write(a+\"\\n\")\n",
    "    a = input()\n",
    "f.close()"
   ]
  },
  {
   "cell_type": "code",
   "execution_count": 22,
   "metadata": {},
   "outputs": [],
   "source": [
    "import os\n",
    "os.remove(\"directory.txt\")"
   ]
  },
  {
   "cell_type": "markdown",
   "metadata": {},
   "source": [
    "We want to create a simple log file called log.txt that logs the time the code is executed."
   ]
  },
  {
   "cell_type": "code",
   "execution_count": 105,
   "metadata": {},
   "outputs": [],
   "source": [
    "import datetime\n",
    "f = open(\"log.txt\", \"a\")\n",
    "f.write(\"\\n\"+str(datetime.datetime.now()))\n",
    "f.close()"
   ]
  },
  {
   "cell_type": "code",
   "execution_count": 101,
   "metadata": {},
   "outputs": [],
   "source": [
    "os.remove(\"log.txt\")"
   ]
  },
  {
   "cell_type": "markdown",
   "metadata": {},
   "source": [
    "Exceptions\n",
    "--\n",
    "\n",
    "Exception is an error that occurs while program is running which causes the program to halt. We can avoid some exception by carefully developing the logic, however in some cases we cannot avoid such scenario."
   ]
  },
  {
   "cell_type": "code",
   "execution_count": 46,
   "metadata": {},
   "outputs": [
    {
     "ename": "ZeroDivisionError",
     "evalue": "division by zero",
     "output_type": "error",
     "traceback": [
      "\u001b[1;31m---------------------------------------------------------------------------\u001b[0m",
      "\u001b[1;31mZeroDivisionError\u001b[0m                         Traceback (most recent call last)",
      "\u001b[1;32m<ipython-input-46-6fa597994d8d>\u001b[0m in \u001b[0;36m<module>\u001b[1;34m\u001b[0m\n\u001b[0;32m      1\u001b[0m \u001b[1;31m# Example 1\u001b[0m\u001b[1;33m\u001b[0m\u001b[1;33m\u001b[0m\u001b[1;33m\u001b[0m\u001b[0m\n\u001b[0;32m      2\u001b[0m \u001b[1;33m\u001b[0m\u001b[0m\n\u001b[1;32m----> 3\u001b[1;33m \u001b[0ma\u001b[0m \u001b[1;33m=\u001b[0m \u001b[1;36m1\u001b[0m\u001b[1;33m/\u001b[0m\u001b[1;36m0\u001b[0m\u001b[1;33m\u001b[0m\u001b[1;33m\u001b[0m\u001b[0m\n\u001b[0m",
      "\u001b[1;31mZeroDivisionError\u001b[0m: division by zero"
     ]
    }
   ],
   "source": [
    "# Example 1\n",
    "\n",
    "a = 1/0"
   ]
  },
  {
   "cell_type": "code",
   "execution_count": 47,
   "metadata": {},
   "outputs": [
    {
     "name": "stdout",
     "output_type": "stream",
     "text": [
      "Enter numberforty\n"
     ]
    },
    {
     "ename": "ValueError",
     "evalue": "invalid literal for int() with base 10: 'forty'",
     "output_type": "error",
     "traceback": [
      "\u001b[1;31m---------------------------------------------------------------------------\u001b[0m",
      "\u001b[1;31mValueError\u001b[0m                                Traceback (most recent call last)",
      "\u001b[1;32m<ipython-input-47-827d448c9596>\u001b[0m in \u001b[0;36m<module>\u001b[1;34m\u001b[0m\n\u001b[0;32m      2\u001b[0m \u001b[1;33m\u001b[0m\u001b[0m\n\u001b[0;32m      3\u001b[0m \u001b[1;31m# Enter a string\u001b[0m\u001b[1;33m\u001b[0m\u001b[1;33m\u001b[0m\u001b[1;33m\u001b[0m\u001b[0m\n\u001b[1;32m----> 4\u001b[1;33m \u001b[0mb\u001b[0m \u001b[1;33m=\u001b[0m \u001b[0mint\u001b[0m\u001b[1;33m(\u001b[0m\u001b[0minput\u001b[0m\u001b[1;33m(\u001b[0m\u001b[1;34m\"Enter number\"\u001b[0m\u001b[1;33m)\u001b[0m\u001b[1;33m)\u001b[0m\u001b[1;33m\u001b[0m\u001b[1;33m\u001b[0m\u001b[0m\n\u001b[0m",
      "\u001b[1;31mValueError\u001b[0m: invalid literal for int() with base 10: 'forty'"
     ]
    }
   ],
   "source": [
    "# Example 2\n",
    "\n",
    "# Enter a string\n",
    "b = int(input(\"Enter number\"))"
   ]
  },
  {
   "cell_type": "markdown",
   "metadata": {},
   "source": [
    "Try-except\n",
    "--\n",
    "\n",
    "Python provides a way to handle these errors/exceptions. The try except block enables us to handle exceptions in an program and stops the program from crashing.\n",
    "\n",
    "Basic syntax:\n",
    "\n",
    "try:    // The try suite\n",
    "\n",
    "    statement1    \n",
    "    \n",
    "    statement2\n",
    "    \n",
    "    statement3\n",
    "    \n",
    "    ..\n",
    "    \n",
    "    statementn\n",
    "\n",
    "except: // exception handler\n",
    "\n",
    "    statement1\n",
    "    \n",
    "    statement2\n",
    "    \n",
    "    statement3\n",
    "    \n",
    "    ..\n",
    "    \n",
    "    statementm\n",
    "    \n",
    "    \n",
    "Flow:\n",
    "If statement in try suite raises exception: \n",
    "    \n",
    "    1. Exception specified in except clause:\n",
    "        Handler immediately following except clause executes \n",
    "        Continue program after try/except statement\n",
    "\n",
    "    2. Other exceptions:\n",
    "        Program halts with traceback error message\n",
    "    \n",
    "    3. If no exception is raised, handlers are skipped\n",
    "    \n",
    "This is demonstrated in the following example."
   ]
  },
  {
   "cell_type": "code",
   "execution_count": 4,
   "metadata": {},
   "outputs": [
    {
     "name": "stdout",
     "output_type": "stream",
     "text": [
      "Enter divisor1\n",
      "Not executed\n",
      "Enter File nameasgfg.txt\n"
     ]
    },
    {
     "ename": "FileNotFoundError",
     "evalue": "[Errno 2] No such file or directory: 'asgfg.txt'",
     "output_type": "error",
     "traceback": [
      "\u001b[1;31m---------------------------------------------------------------------------\u001b[0m",
      "\u001b[1;31mFileNotFoundError\u001b[0m                         Traceback (most recent call last)",
      "\u001b[1;32m<ipython-input-4-872d91399175>\u001b[0m in \u001b[0;36m<module>\u001b[1;34m\u001b[0m\n\u001b[0;32m      6\u001b[0m     \u001b[0mprint\u001b[0m\u001b[1;33m(\u001b[0m\u001b[1;34m\"Not executed\"\u001b[0m\u001b[1;33m)\u001b[0m\u001b[1;33m\u001b[0m\u001b[1;33m\u001b[0m\u001b[0m\n\u001b[0;32m      7\u001b[0m     \u001b[0mfilename\u001b[0m \u001b[1;33m=\u001b[0m \u001b[0minput\u001b[0m\u001b[1;33m(\u001b[0m\u001b[1;34m\"Enter File name\"\u001b[0m\u001b[1;33m)\u001b[0m\u001b[1;33m\u001b[0m\u001b[1;33m\u001b[0m\u001b[0m\n\u001b[1;32m----> 8\u001b[1;33m     \u001b[0mf\u001b[0m \u001b[1;33m=\u001b[0m \u001b[0mopen\u001b[0m\u001b[1;33m(\u001b[0m\u001b[0mfilename\u001b[0m\u001b[1;33m)\u001b[0m\u001b[1;33m\u001b[0m\u001b[1;33m\u001b[0m\u001b[0m\n\u001b[0m\u001b[0;32m      9\u001b[0m \u001b[1;32mexcept\u001b[0m \u001b[0mValueError\u001b[0m\u001b[1;33m:\u001b[0m\u001b[1;33m\u001b[0m\u001b[1;33m\u001b[0m\u001b[0m\n\u001b[0;32m     10\u001b[0m     \u001b[0mprint\u001b[0m\u001b[1;33m(\u001b[0m\u001b[1;34m\"Cannot convert a non integer to integer\"\u001b[0m\u001b[1;33m)\u001b[0m\u001b[1;33m\u001b[0m\u001b[1;33m\u001b[0m\u001b[0m\n",
      "\u001b[1;31mFileNotFoundError\u001b[0m: [Errno 2] No such file or directory: 'asgfg.txt'"
     ]
    }
   ],
   "source": [
    "# Example:\n",
    "\n",
    "try:\n",
    "    a = int(input(\"Enter divisor\"))\n",
    "    b = 1/a # if there is no Divide by zero go to next line else go to somewhere to go if Divide by Zero\n",
    "    print(\"Not executed\")\n",
    "    filename = input(\"Enter File name\")\n",
    "    f = open(filename)\n",
    "except ValueError:\n",
    "    print(\"Cannot convert a non integer to integer\")\n",
    "except ZeroDivisionError:# Somewhere to go if Divide by Zero Occurs\n",
    "    print(\"Cannot divide by zero\")\n",
    "    \n",
    "print(\"This gets printed if no exception or handled exception \")"
   ]
  },
  {
   "cell_type": "code",
   "execution_count": 6,
   "metadata": {},
   "outputs": [
    {
     "name": "stdout",
     "output_type": "stream",
     "text": [
      "Enter divisor0\n",
      "division by zero\n",
      "This gets printed after the code above \n"
     ]
    }
   ],
   "source": [
    "# However can we write one except statement to handle different kind of exceptions\n",
    "try:\n",
    "    a = int(input(\"Enter divisor\"))\n",
    "    b = 1/a\n",
    "    filename = input(\"Enter File name\")\n",
    "    f = open(filename)\n",
    "except Exception as err:\n",
    "    print(err)\n",
    "print(\"This gets printed after the code above \")"
   ]
  },
  {
   "cell_type": "code",
   "execution_count": 3,
   "metadata": {},
   "outputs": [
    {
     "name": "stdout",
     "output_type": "stream",
     "text": [
      "Trying to execute this\n",
      "Error!!!!\n",
      "This gets executed irrespective of an error\n"
     ]
    }
   ],
   "source": [
    "# If no exception the we would like to alternate block\n",
    "try:\n",
    "    print(\"Trying to execute this\")\n",
    "#  Uncomment the following line to check that the else block is not executed in case of an error\n",
    "    #     a = 1/0\n",
    "except Exception as err:\n",
    "    print(\"Error!!!!\")\n",
    "else:\n",
    "    print(\"If no error then this is executed. If error then not\")\n",
    "print(\"This gets executed irrespective of an error\")"
   ]
  },
  {
   "cell_type": "code",
   "execution_count": 119,
   "metadata": {},
   "outputs": [
    {
     "name": "stdout",
     "output_type": "stream",
     "text": [
      "[Errno 2] No such file or directory: 'test.txt'\n",
      "This gets executed irrespective of what happens\n"
     ]
    }
   ],
   "source": [
    "# In many cases, there is another block used along with these two blocks to do any clean up jobtry:\n",
    "try:   \n",
    "    f = open(\"test.txt\", 'r')\n",
    "   # perform file operations\n",
    "except Exception as err:\n",
    "    print(err)\n",
    "finally:\n",
    "    print(\"This gets executed irrespective of what happens\")\n",
    "    f.close()\n",
    "    "
   ]
  }
 ],
 "metadata": {
  "kernelspec": {
   "display_name": "Python 3",
   "language": "python",
   "name": "python3"
  },
  "language_info": {
   "codemirror_mode": {
    "name": "ipython",
    "version": 3
   },
   "file_extension": ".py",
   "mimetype": "text/x-python",
   "name": "python",
   "nbconvert_exporter": "python",
   "pygments_lexer": "ipython3",
   "version": "3.7.3"
  }
 },
 "nbformat": 4,
 "nbformat_minor": 2
}
